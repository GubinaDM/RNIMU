{
  "nbformat": 4,
  "nbformat_minor": 0,
  "metadata": {
    "colab": {
      "provenance": [],
      "authorship_tag": "ABX9TyMDg1Qii21hPtFciT3eAXCD",
      "include_colab_link": true
    },
    "kernelspec": {
      "name": "python3",
      "display_name": "Python 3"
    },
    "language_info": {
      "name": "python"
    }
  },
  "cells": [
    {
      "cell_type": "markdown",
      "metadata": {
        "id": "view-in-github",
        "colab_type": "text"
      },
      "source": [
        "<a href=\"https://colab.research.google.com/github/GubinaDM/RNIMU/blob/main/%D0%97%D0%B0%D0%B4%D0%B0%D1%87%D0%B02.ipynb\" target=\"_parent\"><img src=\"https://colab.research.google.com/assets/colab-badge.svg\" alt=\"Open In Colab\"/></a>"
      ]
    },
    {
      "cell_type": "code",
      "execution_count": 27,
      "metadata": {
        "id": "m3S_p2UM3or_"
      },
      "outputs": [],
      "source": [
        "import http\n",
        "from http import client\n",
        "if __name__ == '__main__':\n",
        "    connection = client.HTTPConnection ('www.google.com')"
      ]
    }
  ]
}