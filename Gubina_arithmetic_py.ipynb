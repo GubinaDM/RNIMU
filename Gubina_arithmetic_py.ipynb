{
  "nbformat": 4,
  "nbformat_minor": 0,
  "metadata": {
    "colab": {
      "provenance": [],
      "authorship_tag": "ABX9TyM3O4ndqTgyJ8G+IfC6ZXei",
      "include_colab_link": true
    },
    "kernelspec": {
      "name": "python3",
      "display_name": "Python 3"
    },
    "language_info": {
      "name": "python"
    }
  },
  "cells": [
    {
      "cell_type": "markdown",
      "metadata": {
        "id": "view-in-github",
        "colab_type": "text"
      },
      "source": [
        "<a href=\"https://colab.research.google.com/github/GubinaDM/RNIMU/blob/main/Gubina_arithmetic_py.ipynb\" target=\"_parent\"><img src=\"https://colab.research.google.com/assets/colab-badge.svg\" alt=\"Open In Colab\"/></a>"
      ]
    },
    {
      "cell_type": "code",
      "execution_count": 22,
      "metadata": {
        "colab": {
          "base_uri": "https://localhost:8080/"
        },
        "id": "sstiPsxR0KoR",
        "outputId": "724d7298-a8c8-426a-df7e-093258ce024c"
      },
      "outputs": [
        {
          "output_type": "stream",
          "name": "stdout",
          "text": [
            "Decide this task 4*100-54\n",
            "Enter your answer230\n",
            "The right answer is 346\n"
          ]
        }
      ],
      "source": [
        "print ('Decide this task 4*100-54')\n",
        "n = input ('Enter your answer')\n",
        "print (f'The right answer is {4*100-54}')"
      ]
    }
  ]
}