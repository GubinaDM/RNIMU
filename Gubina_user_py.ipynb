{
  "nbformat": 4,
  "nbformat_minor": 0,
  "metadata": {
    "colab": {
      "provenance": [],
      "authorship_tag": "ABX9TyOyRZAP8sdBcAtwe77WHatD",
      "include_colab_link": true
    },
    "kernelspec": {
      "name": "python3",
      "display_name": "Python 3"
    },
    "language_info": {
      "name": "python"
    }
  },
  "cells": [
    {
      "cell_type": "markdown",
      "metadata": {
        "id": "view-in-github",
        "colab_type": "text"
      },
      "source": [
        "<a href=\"https://colab.research.google.com/github/GubinaDM/RNIMU/blob/main/Gubina_user_py.ipynb\" target=\"_parent\"><img src=\"https://colab.research.google.com/assets/colab-badge.svg\" alt=\"Open In Colab\"/></a>"
      ]
    },
    {
      "cell_type": "code",
      "execution_count": 6,
      "metadata": {
        "colab": {
          "base_uri": "https://localhost:8080/"
        },
        "id": "AUdk8DUvTYzh",
        "outputId": "3708e192-4cc7-4b8a-eb4c-c6ae4606c674"
      },
      "outputs": [
        {
          "output_type": "stream",
          "name": "stdout",
          "text": [
            "What is your name?Daria\n",
            "How old are you?22\n",
            "Where do you live?Moscow\n",
            "This is Daria. He/She is 22. He/She lives in Moscow\n"
          ]
        }
      ],
      "source": [
        "name_user = input ('What is your name?')\n",
        "age_user = input ('How old are you?')\n",
        "residence_user = input ('Where do you live?')\n",
        "print (f'This is {name_user}. He/She is {age_user}. He/She lives in {residence_user}')"
      ]
    }
  ]
}