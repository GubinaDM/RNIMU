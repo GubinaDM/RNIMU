{
  "nbformat": 4,
  "nbformat_minor": 0,
  "metadata": {
    "colab": {
      "provenance": [],
      "authorship_tag": "ABX9TyOJhHxo5LU7zkhj5m6LTX2N",
      "include_colab_link": true
    },
    "kernelspec": {
      "name": "python3",
      "display_name": "Python 3"
    },
    "language_info": {
      "name": "python"
    }
  },
  "cells": [
    {
      "cell_type": "markdown",
      "metadata": {
        "id": "view-in-github",
        "colab_type": "text"
      },
      "source": [
        "<a href=\"https://colab.research.google.com/github/GubinaDM/RNIMU/blob/main/Gubina_Numbers.ipynb\" target=\"_parent\"><img src=\"https://colab.research.google.com/assets/colab-badge.svg\" alt=\"Open In Colab\"/></a>"
      ]
    },
    {
      "cell_type": "code",
      "execution_count": 22,
      "metadata": {
        "colab": {
          "base_uri": "https://localhost:8080/"
        },
        "id": "uROfxDdyATo3",
        "outputId": "3f29aeeb-bc7f-4195-d246-f4df49eff524"
      },
      "outputs": [
        {
          "output_type": "stream",
          "name": "stdout",
          "text": [
            "Enter the first number1\n",
            "Enter the second number2\n",
            "Enter the third number3\n",
            "Enter the forth number4\n",
            "Result of (number1 + number2/number3 + number4) - 0.43\n"
          ]
        }
      ],
      "source": [
        "number1 = int (input ('Enter the first number'))\n",
        "number2 = int (input ('Enter the second number'))\n",
        "number3 = int (input ('Enter the third number'))\n",
        "number4 = int (input ('Enter the forth number'))\n",
        "summa1 = number1 + number2\n",
        "summa2 = number3 + number4\n",
        "result = summa1/summa2\n",
        "print ('Result of (number1 + number2/number3 + number4) - %.2f' %result)\n",
        "\n"
      ]
    }
  ]
}